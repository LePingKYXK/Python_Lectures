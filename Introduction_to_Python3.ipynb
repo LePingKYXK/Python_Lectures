{
 "cells": [
  {
   "cell_type": "markdown",
   "metadata": {
    "slideshow": {
     "slide_type": "slide"
    }
   },
   "source": [
    "<img src=\"pictures/University_Logo.png\" width=200px>\n",
    "\n",
    "# <center> Introduction to Python 3 </center>\n",
    "\n",
    "<center><img src=\"pictures/pythonlogo.jpg\" width=200px></center>\n",
    "<center> Lecturer: Dr. Huan Wang 王欢 </center>\n",
    "<center> Jan. 24, 2019 </center>"
   ]
  },
  {
   "cell_type": "markdown",
   "metadata": {
    "slideshow": {
     "slide_type": "slide"
    }
   },
   "source": [
    "# Contents\n",
    "---\n",
    "- A (Very) Short History of Python\n",
    "\n",
    "- What Kinds of Things Can Do by Using Python?\n",
    "\n",
    "- Basic Syntax\n",
    "- How to Use Python (Modules/Packages)\n",
    "   - os\n",
    "   - math\n",
    "   - numpy\n",
    "   - matplotlib"
   ]
  },
  {
   "cell_type": "markdown",
   "metadata": {
    "slideshow": {
     "slide_type": "slide"
    }
   },
   "source": [
    "## A (Very) Short History of Python\n",
    "---\n",
    "\n",
    "<img src=\"pictures/short_history.png\" width=600px>"
   ]
  },
  {
   "cell_type": "markdown",
   "metadata": {
    "slideshow": {
     "slide_type": "slide"
    }
   },
   "source": [
    "## What Kind of Things Can Do by Using Python?\n",
    "---\n",
    "   - Deal with (open, read, write, analyze, close) files/data\n",
    "   - Build Websites\n",
    "   - Grab Date from Internet/Database\n",
    "   - Machine Learning\n",
    "   - etc...\n",
    "   \n",
    "#### Some interesting examples to show  ^_^  "
   ]
  },
  {
   "cell_type": "code",
   "execution_count": null,
   "metadata": {
    "scrolled": false,
    "slideshow": {
     "slide_type": "subslide"
    }
   },
   "outputs": [],
   "source": [
    "# Mandelbrot set\n",
    "\n",
    "print('\\n'.join([''.join(['*' if abs((lambda a:lambda z,c,n:a(a,z,c,n))(lambda s,z,c,n:z if n==0 else s(s,z*z+c,c,n-1))(0,0.02*x+0.05j*y,40)) < 2 else ' ' for x in range(-80,20)]) for y in range(-20,20)]))"
   ]
  },
  {
   "cell_type": "code",
   "execution_count": null,
   "metadata": {
    "slideshow": {
     "slide_type": "subslide"
    }
   },
   "outputs": [],
   "source": [
    "print('\\n'.join([' '.join(['%s*%s=%-2s' % (y, x, x*y) for y in range(1, x+1)]) for x in range(1, 10)]))"
   ]
  },
  {
   "cell_type": "code",
   "execution_count": null,
   "metadata": {
    "scrolled": true,
    "slideshow": {
     "slide_type": "subslide"
    }
   },
   "outputs": [],
   "source": [
    "import pandas as pd\n",
    "\n",
    "df = pd.read_csv(\"files/express_correlation_info.csv\")\n",
    "df"
   ]
  },
  {
   "cell_type": "code",
   "execution_count": null,
   "metadata": {
    "slideshow": {
     "slide_type": "subslide"
    }
   },
   "outputs": [],
   "source": [
    "from IPython.display import IFrame\n",
    "IFrame(\"https://www.baidu.com/\", width=1000, height=500)"
   ]
  },
  {
   "cell_type": "code",
   "execution_count": null,
   "metadata": {
    "slideshow": {
     "slide_type": "subslide"
    }
   },
   "outputs": [],
   "source": [
    "import antigravity"
   ]
  },
  {
   "cell_type": "code",
   "execution_count": null,
   "metadata": {
    "slideshow": {
     "slide_type": "subslide"
    }
   },
   "outputs": [],
   "source": [
    "%matplotlib inline\n",
    "\n",
    "[plt.show() for _, __, ___, plt in [(plt.plot(x, y1, color='r'), plt.plot(x, y2, color='r'), np, plt) for x, y1, y2, np, plt in [(x, 0.618*np.abs(x) - 0.8* np.sqrt(64-x**2), 0.618*np.abs(x) + 0.8* np.sqrt(64-x**2), np, plt) for x, np, plt in [(np.linspace(-8, 8, 1024), np, plt) for np, plt in [(__import__('numpy'), __import__('pylab'))]]]]]"
   ]
  },
  {
   "cell_type": "code",
   "execution_count": null,
   "metadata": {
    "scrolled": true,
    "slideshow": {
     "slide_type": "subslide"
    }
   },
   "outputs": [],
   "source": [
    "import sys, os\n",
    "import matplotlib.pyplot as plt\n",
    "from pymatgen.io.vasp.outputs import Vasprun\n",
    "from pymatgen.electronic_structure.plotter import BSDOSPlotter, BSPlotter, BSPlotterProjected, DosPlotter\n",
    "\n",
    "bandpath = r\"D:\\scripts\\Python_Lectures\\BandStructure\"\n",
    "dospath = r\"D:\\scripts\\Python_Lectures\\DOS\"\n",
    "bs_data = Vasprun(os.path.join(bandpath, \"vasprunBS.xml\"),\n",
    "                  parse_projected_eigen=True).get_band_structure(line_mode=True)\n",
    "dos_data = Vasprun(os.path.join(dospath, \"vasprunDOS.xml\")).complete_dos\n",
    "\n",
    "plt_both = BSDOSPlotter(bs_projection=\"elements\", dos_projection=\"elements\")\n",
    "plt_both.get_plot(bs=bs_data, dos=dos_data)\n",
    "plt.show()"
   ]
  },
  {
   "cell_type": "code",
   "execution_count": null,
   "metadata": {
    "slideshow": {
     "slide_type": "subslide"
    }
   },
   "outputs": [],
   "source": [
    "%matplotlib inline\n",
    "\n",
    "import seaborn as sns; sns.set()\n",
    "iris = sns.load_dataset('iris')\n",
    "sns.pairplot(iris, hue='species', height=1.5)"
   ]
  },
  {
   "cell_type": "markdown",
   "metadata": {
    "slideshow": {
     "slide_type": "subslide"
    }
   },
   "source": [
    "<center><img src=\"pictures/features.png\" width=500px></center>"
   ]
  },
  {
   "cell_type": "markdown",
   "metadata": {
    "slideshow": {
     "slide_type": "slide"
    }
   },
   "source": [
    "## Installation of Python 3\n",
    "---\n",
    " \n",
    "- https://www.python.org （官方网站）\n",
    "- https://www.anaconda.com/ （第三方 Python 集成包，Anaconda，推荐新手安装使用）\n",
    "- https://mirrors.tuna.tsinghua.edu.cn/help/anaconda/ （清华大学镜像站）\n",
    "- https://mirrors.ustc.edu.cn/anaconda/archive/ （中国科学技术大学镜像站）\n",
    "\n",
    "## Installation of packages\n",
    "---\n",
    "```Python\n",
    "pip install [package name]    # Linux Command line (Windows cmd, or PowerShell)\n",
    "conda install [package name]  # Anaconda Prompt 环境下运行\n",
    "```"
   ]
  },
  {
   "cell_type": "markdown",
   "metadata": {
    "slideshow": {
     "slide_type": "slide"
    }
   },
   "source": [
    "## What is a Program and Programing?\n",
    "---\n",
    "<center><img src=\"pictures/classify.gif\" width=200px></center>"
   ]
  },
  {
   "cell_type": "markdown",
   "metadata": {
    "slideshow": {
     "slide_type": "slide"
    }
   },
   "source": [
    "- **Basic Syntax**\n",
    "- **Basic Data Structures**\n",
    "    - List, Tuple, Dictionary, Set and String\n",
    "- **Loops (iterations)**\n",
    "    - For and While\n",
    "- **Conditions**\n",
    "    - if... else...\n",
    "- **List Comprehension**\n",
    "- **Define Functions**\n",
    "- **Simple Mathematics**\n",
    "- **Practice**\n",
    "    - Manipulate (Open, Write) file/data \n",
    "- **Basic Numpy** (Numerical Computation Python Package)\n",
    "- **Plot Data**\n",
    "    - Matplotlib Package"
   ]
  },
  {
   "cell_type": "markdown",
   "metadata": {
    "slideshow": {
     "slide_type": "subslide"
    }
   },
   "source": [
    "### Basic Syntax\n",
    "---\n",
    "Human friendly function name\n",
    "```python\n",
    ">>> print(\"Hello, Python!\")\n",
    "Hello, Python!\n",
    ">>> float(\"150\")\n",
    "150.0\n",
    "```\n",
    "Quotation in Python\n",
    "```python\n",
    ">>> word = 'word'\n",
    ">>> sentence = \"This is a sentence.\"\n",
    ">>> paragraph = \"\"\"This is a paragraph. It is\n",
    "made up of multiple lines and sentences.\"\"\"\n",
    "```\n",
    "Comments in Python\n",
    "```python\n",
    ">>> # this line is a comment\n",
    ">>> ''' This paragraph is a note, which describes \n",
    "the basic syntax of Python program language.\n",
    "Hope you like it. '''\n",
    "```"
   ]
  },
  {
   "cell_type": "markdown",
   "metadata": {
    "slideshow": {
     "slide_type": "subslide"
    }
   },
   "source": [
    "### Basic Syntax\n",
    "---\n",
    "\n",
    "Indentation \n",
    "```Python\n",
    "if True:\n",
    "    print \"True\"\n",
    "else:\n",
    "    print \"False\"\n",
    "```\n",
    "    True\n",
    "---\n",
    "```Python\n",
    "if True:\n",
    "print(\"True\")\n",
    "else:\n",
    "print(\"False\")\n",
    "SyntaxError: expected an indented block\n",
    "```"
   ]
  },
  {
   "cell_type": "markdown",
   "metadata": {
    "slideshow": {
     "slide_type": "subslide"
    }
   },
   "source": [
    "### Basic Syntax\n",
    "---\n",
    "The Reserved Keywords Lists\n",
    "\n",
    "|.|.|.|\n",
    "|:--------- |:---------- |:-----|\n",
    "|and        |exec \t     |not\n",
    "|assert \t|finally \t |or\n",
    "|break \t    |for \t     |pass\n",
    "|class \t    |from \t     |print\n",
    "|continue \t|global \t |raise\n",
    "|def \t    |if \t     |return\n",
    "|del \t    |import \t |try\n",
    "|elif \t    |in \t     |while\n",
    "|else \t    |is \t     |with\n",
    "|except \t|lambda \t |yield"
   ]
  },
  {
   "cell_type": "markdown",
   "metadata": {
    "slideshow": {
     "slide_type": "subslide"
    }
   },
   "source": [
    "### Basic Syntax\n",
    "---\n",
    "#### Assigning Values to Variables\n",
    "Variable_name = value\n",
    "```Python\n",
    "counter = 100          # An integer assignment\n",
    "miles   = 1000.0       # A floating point\n",
    "name    = \"John\"       # A string\n",
    "\n",
    "print(counter)\n",
    "print(miles)\n",
    "print(name)\n",
    "```"
   ]
  },
  {
   "cell_type": "markdown",
   "metadata": {
    "slideshow": {
     "slide_type": "subslide"
    }
   },
   "source": [
    "### Basic Syntax\n",
    "---\n",
    "\n",
    "Import Module\n",
    "```Python\n",
    "import module_name # 导入某个库\n",
    "import module_name as short_name # 导入某个库，并用简写来代替库名\n",
    "from module_name import function # 从某个库带入某函数\n",
    "```\n"
   ]
  },
  {
   "cell_type": "markdown",
   "metadata": {
    "slideshow": {
     "slide_type": "subslide"
    }
   },
   "source": [
    "### Basic Data Structures\n",
    "---\n",
    "    List, Tuple, Dictionary, Set and String\n",
    "\n"
   ]
  },
  {
   "cell_type": "code",
   "execution_count": null,
   "metadata": {
    "slideshow": {
     "slide_type": "subslide"
    }
   },
   "outputs": [],
   "source": [
    "# list\n",
    "\n",
    "import math\n",
    "\n",
    "a = [10, -22, 34, 47, 59]\n",
    "b = [\"This\", \"is\", \"a\", \"Python\", \"list\"]\n",
    "c = [math.pi, \"hello\", 110-3j]\n",
    "d = []\n",
    "e = list(\"Wuhan027\")\n",
    "\n",
    "print(\" a = {:}\\n\".format(a), \"b = {:}\\n\".format(b), \"c = {:}\\n\".format(c), \"d = {:}\\n\".format(d), \"e = {:}\\n\".format(e))\n",
    "type(a)"
   ]
  },
  {
   "cell_type": "code",
   "execution_count": null,
   "metadata": {
    "scrolled": true,
    "slideshow": {
     "slide_type": "subslide"
    }
   },
   "outputs": [],
   "source": [
    "# we can add elements in a list or remove elements from a list\n",
    "\n",
    "print(\"the orignial list a = {:}\".format(a))\n",
    "a.insert(3, 666)\n",
    "print(\"after adding 666, a = {:}\".format(a))\n",
    "\n",
    "print(\"the orignial list      b = {:}\".format(b))\n",
    "b.remove(\"Python\")\n",
    "print(\"after removing Python, b = {:}\".format(b))\n",
    "\n",
    "print(b.pop())\n",
    "print(b)\n",
    "\n",
    "print(\"the empty list   d = {:}\".format(d))\n",
    "d.append((a,b,c))\n",
    "print(\"after appending, d = {:}\".format(d))"
   ]
  },
  {
   "cell_type": "code",
   "execution_count": null,
   "metadata": {
    "slideshow": {
     "slide_type": "subslide"
    }
   },
   "outputs": [],
   "source": [
    "# Slicing and indexing a list\n",
    "\n",
    "L = [12.69290501,  -18.2791331, -10.53494027,   8.80877144, \n",
    "       1.6480495, -15.53705038, -15.52161938,  -7.27604217,\n",
    "     -12.8391357, -14.16968387,   5.53851611,  -3.40937772,\n",
    "      4.28057317,   5.49905257,    3.3435108,  17.33898993,\n",
    "     11.82513253,  -1.42564053,   4.29763718,   0.47268148]\n",
    "\n",
    "\n",
    "print(\"L[6] ---> {:}\\n\".format(L[6]))\n",
    "print(\"L[6:] ---> {:}\\n\".format(L[6:]))\n",
    "print(\"L[:6] ---> {:}\\n\".format(L[:6]))\n",
    "print(\"L[-1] ---> {:}\\n\".format(L[-1]))\n",
    "print(\"L[6:-3] ---> {:}\\n\".format(L[6:-3]))"
   ]
  },
  {
   "cell_type": "code",
   "execution_count": null,
   "metadata": {
    "slideshow": {
     "slide_type": "subslide"
    }
   },
   "outputs": [],
   "source": [
    "a = list(range(18))\n",
    "print(\"a = \", a)\n",
    "print(a[0:-1:3], \"\\n\")    # pick every third one\n",
    "\n",
    "print(\"A pythonic way to reverse a list {:}\".format(a[::-1]))\n"
   ]
  },
  {
   "cell_type": "code",
   "execution_count": null,
   "metadata": {
    "slideshow": {
     "slide_type": "subslide"
    }
   },
   "outputs": [],
   "source": [
    "# Tuple, unchangeable!\n",
    "\n",
    "t = (1, -5, \"text\", 0, math.e)\n",
    "t\n",
    "t.append(0.9)    # NOT be able to append! It would return an error!"
   ]
  },
  {
   "cell_type": "code",
   "execution_count": null,
   "metadata": {
    "slideshow": {
     "slide_type": "subslide"
    }
   },
   "outputs": [],
   "source": [
    "# Dictionary\n",
    "\n",
    "tel = {\"Zhao\": 13312345678, \"Qian\": 13487654321, \"Sun\": 13511223344, \"Li\": 13634567890, \n",
    "       \"Zhou\": 13713572468, \"Wu\": 13809876543, \"Zheng\": 13956473829, \"Wang\": 15910293847}\n",
    "\n",
    "# tel.type()\n",
    "#tel[\"Wu\"]\n",
    "tel[\"police\"] = 110    # add new key and value\n",
    "print(tel.keys(), tel.values())"
   ]
  },
  {
   "cell_type": "code",
   "execution_count": null,
   "metadata": {
    "slideshow": {
     "slide_type": "subslide"
    }
   },
   "outputs": [],
   "source": [
    "# Set\n",
    "\n",
    "basket = ['apple', 'orange', 'apple', 'pear', 'orange', 'banana']\n",
    "fruit01 = set(basket)\n",
    "print(\"fruits = {:}\".format(fruit01))\n",
    "\n",
    "fruit02 = {\"peach\", \"apple\", \"banana\", \"apricot\", \"coconut\", \"pomegranate\", \"durian\", \"watermelon\"}\n",
    "\n",
    "\n",
    "## intersection\n",
    "box = fruit01 & fruit02\n",
    "print(\"box = {:}\".format(box))\n",
    "\n",
    "## union\n",
    "table = fruit01 | fruit02\n",
    "print(\"table = {:}\".format(table))\n"
   ]
  },
  {
   "cell_type": "code",
   "execution_count": null,
   "metadata": {
    "slideshow": {
     "slide_type": "subslide"
    }
   },
   "outputs": [],
   "source": [
    "# String\n",
    "\n",
    "s = \"The quick brown fox jumps over the lazy dog.\"\n",
    "print(s[10:19])\n",
    "print(\"splitted = {:}\\n\".format(s.split(\" \")))    # the split() function will split the string and save all elements into a list.\n",
    "\n",
    "q = \"Cats are smarter than dogs. XD\"\n",
    "\n",
    "m = \"\\t\".join((s, q))    # the ''.join() function will join different strings together.\n",
    "print(m)"
   ]
  },
  {
   "cell_type": "code",
   "execution_count": null,
   "metadata": {
    "slideshow": {
     "slide_type": "subslide"
    }
   },
   "outputs": [],
   "source": [
    "# Pythonic Syntax\n",
    "\n",
    "x, y = [12, 89]\n",
    "print(\"x_before = {:}\\ny_before = {:}\\n\".format(x,y))\n",
    " \n",
    "x, y = y, x\n",
    "print(\"x_after = {:}\\ny_after = {:}\\n\".format(x,y))\n",
    "\n",
    "i, *j, k = range(-3, 5)\n",
    "print(\"i = {:}\\nj = {:}\\nk = {}\\n\".format(i,j,k))"
   ]
  },
  {
   "cell_type": "markdown",
   "metadata": {
    "slideshow": {
     "slide_type": "subslide"
    }
   },
   "source": [
    "### Iteration:  for loop\n",
    "---\n",
    "```Python\n",
    "for iterating_var in sequence:\n",
    "    statements(s)\n",
    "```"
   ]
  },
  {
   "cell_type": "code",
   "execution_count": null,
   "metadata": {
    "slideshow": {
     "slide_type": "subslide"
    }
   },
   "outputs": [],
   "source": [
    "# Iteration: for loop\n",
    "\n",
    "r = list(range(-10,15))\n",
    "print(\"a = {:}\\n\".format(r))\n",
    "\n",
    "for i in range(len(a)):\n",
    "    print(\"index:{:>4}\\t value:{:>4}\".format(i, r[i]))"
   ]
  },
  {
   "cell_type": "code",
   "execution_count": null,
   "metadata": {
    "scrolled": true,
    "slideshow": {
     "slide_type": "subslide"
    }
   },
   "outputs": [],
   "source": [
    "# Iteration: for loop\n",
    "\n",
    "new = [1, 55, 7, 90]\n",
    "for index, value in enumerate(new):\n",
    "    print(\"index:{:>4}\\t value:{:>4}\".format(index, value))"
   ]
  },
  {
   "cell_type": "markdown",
   "metadata": {
    "slideshow": {
     "slide_type": "subslide"
    }
   },
   "source": [
    "### Iteration:  while loop\n",
    "---\n",
    "\n",
    "```Python\n",
    "while expression [True]:\n",
    "    statement(s)\n",
    "```"
   ]
  },
  {
   "cell_type": "code",
   "execution_count": null,
   "metadata": {
    "slideshow": {
     "slide_type": "subslide"
    }
   },
   "outputs": [],
   "source": [
    "# Iteration: while loop\n",
    "\n",
    "count = 0\n",
    "\n",
    "while count <= 5:\n",
    "    print(count, \" <= 5\")\n",
    "    count = count + 1\n",
    "else:\n",
    "    print(count, \" is larger than 5\")\n",
    "    "
   ]
  },
  {
   "cell_type": "markdown",
   "metadata": {
    "slideshow": {
     "slide_type": "subslide"
    }
   },
   "source": [
    "### Conditions\n",
    "---\n",
    "\n",
    "```python\n",
    "if condition1:\n",
    "    case1\n",
    "else condition2:\n",
    "    case2\n",
    "```\n",
    "\n",
    "or \n",
    "\n",
    "```python\n",
    "if condition1:\n",
    "    case1\n",
    "elif condition2:\n",
    "    case2\n",
    "elif condition3:\n",
    "    case3\n",
    "else:\n",
    "    case4\n",
    "```"
   ]
  },
  {
   "cell_type": "code",
   "execution_count": null,
   "metadata": {
    "scrolled": true,
    "slideshow": {
     "slide_type": "subslide"
    }
   },
   "outputs": [],
   "source": [
    "# if... else...\n",
    "\n",
    "import random\n",
    "\n",
    "data = [random.randrange(-3,3)*k for k in range(-10, 10)]\n",
    "print(data)\n",
    "\n",
    "n_pos = []\n",
    "n_neg = []\n",
    "zeros = []\n",
    "\n",
    "for k in data:\n",
    "    if k > 0:\n",
    "        n_pos.append(k)\n",
    "    elif k < 0:\n",
    "        n_neg.append(k)\n",
    "    else:\n",
    "        zeros.append(k)\n",
    "\n",
    "fmt = \"\\n There are {:} positive numbers, {:} negtive number and {} zeros.\"\n",
    "print(fmt.format(len(n_pos), len(n_neg), len(zeros)))"
   ]
  },
  {
   "cell_type": "code",
   "execution_count": null,
   "metadata": {
    "slideshow": {
     "slide_type": "subslide"
    }
   },
   "outputs": [],
   "source": [
    "# List comprehension\n",
    "\n",
    "squares = []\n",
    "for x in range(10):\n",
    "    squares.append(x**2)#\n",
    "\n",
    "print(\"The nesting method = \", squares)\n",
    "\n",
    "\n",
    "print(\"List comprehension = \", [x**2 for x in range(10)])"
   ]
  },
  {
   "cell_type": "code",
   "execution_count": null,
   "metadata": {
    "slideshow": {
     "slide_type": "subslide"
    }
   },
   "outputs": [],
   "source": [
    "# List comprehension\n",
    "\n",
    "odd = [x for x in range(50) if x%2 != 0]\n",
    "print(\"odd numbers less than 50: {:}\\n\".format(odd))\n",
    "\n",
    "\n",
    "pair = [(x, y) for x in [1,2,3] for y in [3,1,4] if x != y]\n",
    "print(\"pair = \", pair)\n",
    "\n",
    "\n",
    "nest = []\n",
    "for x in [1,2,3]:\n",
    "    for y in [3,1,4]:\n",
    "        b = (x, y)\n",
    "        if x != y:\n",
    "            nest.append(b)\n",
    "print(\"nest = \", nest)"
   ]
  },
  {
   "cell_type": "code",
   "execution_count": null,
   "metadata": {
    "scrolled": true,
    "slideshow": {
     "slide_type": "subslide"
    }
   },
   "outputs": [],
   "source": [
    "# Simple mathematics\n",
    "\n",
    "print(\"10 + 2 - 4 * 2 =\", 10 + 2 - 4 * 2)\n",
    "print(\"5^3 =\", 5**3)\n",
    "print(\"3/2 =\", 3/2)\n",
    "print(\"7%3 =\", 7%3)  # \n",
    "\n",
    "import math\n",
    "print(\"ln(e) =\", math.log(math.e))\n"
   ]
  },
  {
   "cell_type": "code",
   "execution_count": null,
   "metadata": {
    "slideshow": {
     "slide_type": "subslide"
    }
   },
   "outputs": [],
   "source": [
    "# What will happen if numeral calculating on lists, tuples, strings?\n",
    "\n",
    "%pprint\n",
    "\n",
    "a = [1,2,5,8,11]\n",
    "b = [0.3, -6, 99, 5.4, 0]\n",
    "\n",
    "print(\"a + b = {:}\\n\".format(a + b))\n",
    "print(\"a * 5 = {:}\\n\".format(a * 5))"
   ]
  },
  {
   "cell_type": "code",
   "execution_count": null,
   "metadata": {
    "slideshow": {
     "slide_type": "subslide"
    }
   },
   "outputs": [],
   "source": [
    "# What will happen if numeral calculating on lists, tuples, strings?\n",
    "\n",
    "str1 = 'Hello'; str2 = 'World'; str3 = '!'\n",
    "print(str1 + str2 + str3)\n",
    "\n",
    "str4 = \"-=\"\n",
    "print(str4 * 10)\n",
    "\n",
    "print(\"\\n\".join((str1, str2, str3)))"
   ]
  },
  {
   "cell_type": "markdown",
   "metadata": {
    "slideshow": {
     "slide_type": "subslide"
    }
   },
   "source": [
    "#### Define a Function\n",
    "---\n",
    "```Python\n",
    "def func(arg1, [arg2, ...]):\n",
    "    some processes\n",
    "    return val[expression]\n",
    "```\n",
    "\n",
    "#### Call a Function\n",
    "---\n",
    "```Pyton\n",
    "func(arg1, [arg2, ...])\n",
    "OR\n",
    "val = funcfunc(arg1, [arg2, ...])\n",
    "```"
   ]
  },
  {
   "cell_type": "code",
   "execution_count": null,
   "metadata": {
    "slideshow": {
     "slide_type": "subslide"
    }
   },
   "outputs": [],
   "source": [
    "# Define function\n",
    "\n",
    "def square_plus(a):\n",
    "    b = a**2 + 1\n",
    "    return b\n",
    "\n",
    "data = square_plus(5)\n",
    "print(data)"
   ]
  },
  {
   "cell_type": "code",
   "execution_count": null,
   "metadata": {
    "slideshow": {
     "slide_type": "subslide"
    }
   },
   "outputs": [],
   "source": [
    "# Global vs. Local variables\n",
    "\n",
    "total = 0   # This is global variable.\n",
    "\n",
    "def sum(arg1, arg2):\n",
    "    '''Add both the parameters and return them.'''\n",
    "    total = arg1 + arg2 # Here total is local variable.\n",
    "    print(\"Inside the function local total : \", total)\n",
    "    return total\n",
    "\n",
    "# Now you can call the sum function\n",
    "sum(10, 20)\n",
    "print(\"Outside the function global total : \", total)"
   ]
  },
  {
   "cell_type": "code",
   "execution_count": null,
   "metadata": {},
   "outputs": [],
   "source": []
  },
  {
   "cell_type": "markdown",
   "metadata": {
    "slideshow": {
     "slide_type": "subslide"
    }
   },
   "source": [
    "### Practice\n",
    "---\n",
    "Read and Write file/data\n",
    "```Python\n",
    "with open(file, 'r') as fo:\n",
    "    pass\n",
    "    \n",
    "with open(file, 'w') as fw:\n",
    "    pass\n",
    "```"
   ]
  },
  {
   "cell_type": "code",
   "execution_count": null,
   "metadata": {
    "slideshow": {
     "slide_type": "subslide"
    }
   },
   "outputs": [],
   "source": [
    "import os\n",
    "\n",
    "filepath = r\"files/\"\n",
    "filename1 = \"PM6.gjf\"\n",
    "fileInp = os.path.join(filepath, filename1)\n",
    "filename2 = \"coord.txt\"\n",
    "fileOut = os.path.join(filepath, filename2)\n",
    "\n",
    "coord = []\n",
    "\n",
    "with open(fileInp, \"r\") as fo:\n",
    "    for line in fo:\n",
    "        if line.startswith((\" C\", \" H\", \" O\", \" N\")):\n",
    "            coord.append(line.split()[1:])\n",
    "#print(coord)\n",
    "\n",
    "with open(fileOut, \"w\") as fw:\n",
    "    fmt = \"\".join((\"{:>15}\\t\"*3, \"\\n\"))\n",
    "    for i in coord:\n",
    "        fw.write(fmt.format(*i))\n",
    "\n"
   ]
  },
  {
   "cell_type": "markdown",
   "metadata": {
    "slideshow": {
     "slide_type": "slide"
    }
   },
   "source": [
    "## Basic Numpy \n",
    "---\n",
    "<center><img src=\"pictures/Numpy.jpg\" width=400px></center>"
   ]
  },
  {
   "cell_type": "markdown",
   "metadata": {
    "slideshow": {
     "slide_type": "subslide"
    }
   },
   "source": [
    "### Import modules\n",
    "---\n",
    "\n",
    "```python\n",
    "import package_name # 导入某个库\n",
    "import package_name as short_name # 导入某个库，并用简写来代替库名\n",
    "from package import function # 从某个库带入某函数\n",
    "\n",
    "```"
   ]
  },
  {
   "cell_type": "code",
   "execution_count": null,
   "metadata": {
    "slideshow": {
     "slide_type": "subslide"
    }
   },
   "outputs": [],
   "source": [
    "import numpy as np\n",
    "\n",
    "a1 = np.array([1, 2, 3, 4, 5])\n",
    "print(\"a1 = {:}\\n\".format(a1))\n",
    "type(a1)\n",
    "\n",
    "a2 = np.arange(-10, 10, 0.5)\n",
    "print(\"a2 = {:}\\n\".format(a2))\n",
    "\n",
    "a3 = np.linspace(-10, 10, num=41)\n",
    "print(\"a3 = {:}\\n\".format(a3))"
   ]
  },
  {
   "cell_type": "markdown",
   "metadata": {
    "slideshow": {
     "slide_type": "subslide"
    }
   },
   "source": [
    "### N-dimensional data array\n",
    "---\n",
    "<center><img src=\"pictures/ndarray.png\" width=400px></center>"
   ]
  },
  {
   "cell_type": "code",
   "execution_count": null,
   "metadata": {
    "scrolled": true,
    "slideshow": {
     "slide_type": "subslide"
    }
   },
   "outputs": [],
   "source": [
    "# n-dimensional array\n",
    "\n",
    "arr = np.arange(0,60).reshape(3,5,4)\n",
    "arr[0,2]"
   ]
  },
  {
   "cell_type": "code",
   "execution_count": null,
   "metadata": {
    "slideshow": {
     "slide_type": "subslide"
    }
   },
   "outputs": [],
   "source": [
    "empty = np.empty((3,9))\n",
    "print(\"empty = \\n{:}\\n\".format(empty))\n",
    "\n",
    "zeros = np.zeros((4,3))\n",
    "print(\"zeros = \\n{:}\\n\".format(zeros))\n",
    "\n",
    "ones = np.ones((5,7))\n",
    "print(\"ones = \\n{:}\\n\".format(ones))\n",
    "\n",
    "diagonal = np.diag((1, 2, 3, 4, 5))\n",
    "print(\"diagonal = \\n{:}\\n\".format(diagonal))"
   ]
  },
  {
   "cell_type": "markdown",
   "metadata": {
    "slideshow": {
     "slide_type": "subslide"
    }
   },
   "source": [
    "### Broadcasting algorithm\n",
    "<center><img src=\"pictures/broadcasting.png\" width=200px></center>"
   ]
  },
  {
   "cell_type": "code",
   "execution_count": null,
   "metadata": {
    "slideshow": {
     "slide_type": "subslide"
    }
   },
   "outputs": [],
   "source": [
    "# Broadcasting examples\n",
    "\n",
    "row = np.arange(0,6)\n",
    "col = np.arange(0, 51, 10).reshape(-1,1)\n",
    "\n",
    "#print(row)\n",
    "\n",
    "#print(col)\n",
    "\n",
    "data = row + col\n",
    "data"
   ]
  },
  {
   "cell_type": "markdown",
   "metadata": {
    "slideshow": {
     "slide_type": "subslide"
    }
   },
   "source": [
    "### Slicing and Indexing\n",
    "---\n",
    "<center><img src=\"pictures/numpy_indexing.png\" width=200px></center>\n"
   ]
  },
  {
   "cell_type": "code",
   "execution_count": null,
   "metadata": {
    "slideshow": {
     "slide_type": "-"
    }
   },
   "outputs": [],
   "source": [
    "# Slicing and indexing a data array\n",
    "\n",
    "print(data)\n",
    "data[0,3:5]    # practice. repeat the examples in the above picture"
   ]
  },
  {
   "cell_type": "markdown",
   "metadata": {
    "slideshow": {
     "slide_type": "subslide"
    }
   },
   "source": [
    "### Concatenation or Stacking\n",
    "---\n"
   ]
  },
  {
   "cell_type": "code",
   "execution_count": null,
   "metadata": {
    "slideshow": {
     "slide_type": "subslide"
    }
   },
   "outputs": [],
   "source": [
    "# Concatenation or Stacking\n",
    "\n",
    "import numpy as np\n",
    "a1 = np.array([1, 2, 3, 4, 5, 6]).reshape(2,-1)\n",
    "a2 = np.array([11, 12, 13, 14, 15, 16]).reshape(2,-1)\n",
    "\n",
    "print(\"a1={:}\\na2={:}\".format(a1,a2))\n",
    "\n",
    "\n",
    "np.concatenate((a1, a2), axis=1)\n",
    "\n",
    "\n",
    "#np.stack((a1, a2))\n",
    "\n",
    "\n"
   ]
  },
  {
   "cell_type": "code",
   "execution_count": null,
   "metadata": {
    "slideshow": {
     "slide_type": "subslide"
    }
   },
   "outputs": [],
   "source": [
    "# Linear  algebra\n",
    "\n",
    "vec1 = np.array([0,0,3])\n",
    "vec2 = np.array([4,0,0])\n",
    "\n",
    "#np.cross(vec1, vec2)\n",
    "#np.cross(vec1, vec2)\n",
    "np.linalg.norm(vec1 - vec2)"
   ]
  },
  {
   "cell_type": "markdown",
   "metadata": {
    "slideshow": {
     "slide_type": "subslide"
    }
   },
   "source": [
    "find the eigen values and eigen vectors of the matrix below\n",
    "\\begin{bmatrix}\n",
    "    -1  &  1  & 0  \\\\\n",
    "    -4  &  3  &  0 \\\\\n",
    "    1   &  0  &  2 \\\\\n",
    "\\end{bmatrix}"
   ]
  },
  {
   "cell_type": "code",
   "execution_count": null,
   "metadata": {
    "scrolled": true,
    "slideshow": {
     "slide_type": "-"
    }
   },
   "outputs": [],
   "source": [
    "\n",
    "m = np.array([[-1, 1, 0],[-4, 3, 0],[1, 0, 2]])\n",
    "\n",
    "#eigen_val, eigen_vec = np.linalg.eig(m)\n",
    "\n",
    "#print(\" eigen_values = {},\\n eigen_vectors \\n{:}\".format(eigen_val, eigen_vec))\n",
    "\n",
    "np.linalg.inv(m)"
   ]
  },
  {
   "cell_type": "markdown",
   "metadata": {
    "slideshow": {
     "slide_type": "slide"
    }
   },
   "source": [
    "## Data Plotting\n",
    "---\n",
    "<center><img src=\"pictures/Matplotlib_logo.png\" width=400px></center>\n",
    "http://matplotlib.org/ "
   ]
  },
  {
   "cell_type": "code",
   "execution_count": null,
   "metadata": {
    "slideshow": {
     "slide_type": "subslide"
    }
   },
   "outputs": [],
   "source": [
    "%matplotlib inline\n",
    "import numpy as np\n",
    "import matplotlib.pyplot as plt\n",
    "\n",
    "# Create a new figure of size 8x6 points, using 100 dots per inch\n",
    "plt.figure(figsize=(8, 6), dpi=100)\n",
    "\n",
    "X = np.linspace(-np.pi, np.pi, 256, endpoint=True)\n",
    "C,S = np.cos(X), np.sin(X)\n",
    "\n",
    "# Plot cosine using blue color with a continuous line of width 1 (pixels)\n",
    "plt.plot(X, C, color=\"blue\", linewidth=1.0, linestyle=\"-\", label=\"cos\")\n",
    "\n",
    "# Plot sine using green color with a continuous line of width 1 (pixels)\n",
    "plt.plot(X, S, color=\"red\", linewidth=1.0, linestyle=\"-.\", label=\"sin\")\n",
    "\n",
    "# Set x limits\n",
    "plt.xlim(-np.pi, np.pi)\n",
    "\n",
    "# Set x ticks\n",
    "plt.xticks(np.linspace(-3.14, 3.14, 10, endpoint=True))\n",
    "#[-np.pi, -np.pi/2, 0, np.pi/2, np.pi], [r'$-\\pi$', r'$-\\pi/2$', r'$0$', r'$+\\pi/2$', r'$+\\pi$']\n",
    "\n",
    "# Set y limits\n",
    "plt.ylim(-1.0, 1.0)\n",
    "\n",
    "# Set y ticks\n",
    "plt.yticks(np.linspace(-1, 1, 5, endpoint=True))\n",
    "\n",
    "# Set legend\n",
    "plt.legend(loc='upper right', frameon=False)\n",
    "\n",
    "# Save figure using 72 dots per inch\n",
    "# savefig(r\"D:\\scripts\\Python_Lectures\\exercice.png\", dpi=72)\n",
    "\n",
    "# Show result on screen\n",
    "plt.show()"
   ]
  },
  {
   "cell_type": "code",
   "execution_count": 1,
   "metadata": {
    "slideshow": {
     "slide_type": "subslide"
    }
   },
   "outputs": [
    {
     "data": {
      "text/html": [
       "\n",
       "        <iframe\n",
       "            width=\"1000\"\n",
       "            height=\"500\"\n",
       "            src=\"https://matplotlib.org/gallery/index.html\"\n",
       "            frameborder=\"0\"\n",
       "            allowfullscreen\n",
       "        ></iframe>\n",
       "        "
      ],
      "text/plain": [
       "<IPython.lib.display.IFrame at 0x2b128391208>"
      ]
     },
     "execution_count": 1,
     "metadata": {},
     "output_type": "execute_result"
    }
   ],
   "source": [
    "from IPython.display import IFrame\n",
    "IFrame(\"https://matplotlib.org/gallery/index.html\", width=1000, height=500)"
   ]
  },
  {
   "cell_type": "markdown",
   "metadata": {
    "slideshow": {
     "slide_type": "slide"
    }
   },
   "source": [
    "## Tips for Learning Python\n",
    "---\n",
    "- 官 方 手 册  https://docs.python.org/3/library/index.html\n",
    "- 疑难杂症解答  http://stackoverflow.com/\n",
    "- 基本绘图模板  https://matplotlib.org/gallery.html\n",
    "- 网 络 教 程  https://morvanzhou.github.io/tutorials/python-basic/basic/"
   ]
  },
  {
   "cell_type": "code",
   "execution_count": 2,
   "metadata": {
    "slideshow": {
     "slide_type": "subslide"
    }
   },
   "outputs": [
    {
     "data": {
      "text/html": [
       "\n",
       "        <iframe\n",
       "            width=\"1000\"\n",
       "            height=\"500\"\n",
       "            src=\"https://jakevdp.github.io/PythonDataScienceHandbook/\"\n",
       "            frameborder=\"0\"\n",
       "            allowfullscreen\n",
       "        ></iframe>\n",
       "        "
      ],
      "text/plain": [
       "<IPython.lib.display.IFrame at 0x2b1283915c0>"
      ]
     },
     "execution_count": 2,
     "metadata": {},
     "output_type": "execute_result"
    }
   ],
   "source": [
    "from IPython.display import IFrame\n",
    "IFrame(\"https://jakevdp.github.io/PythonDataScienceHandbook/\", width=1000, height=500)\n",
    "# https://jakevdp.github.io/PythonDataScienceHandbook/"
   ]
  },
  {
   "cell_type": "code",
   "execution_count": null,
   "metadata": {
    "scrolled": false,
    "slideshow": {
     "slide_type": "slide"
    }
   },
   "outputs": [],
   "source": [
    "\" \".join([\"Thank\", \"You\", \"for\", \"Your\", \"Attention\", \"!\"])"
   ]
  }
 ],
 "metadata": {
  "celltoolbar": "幻灯片",
  "kernelspec": {
   "display_name": "Python 3",
   "language": "python",
   "name": "python3"
  },
  "language_info": {
   "codemirror_mode": {
    "name": "ipython",
    "version": 3
   },
   "file_extension": ".py",
   "mimetype": "text/x-python",
   "name": "python",
   "nbconvert_exporter": "python",
   "pygments_lexer": "ipython3",
   "version": "3.7.1"
  }
 },
 "nbformat": 4,
 "nbformat_minor": 2
}
